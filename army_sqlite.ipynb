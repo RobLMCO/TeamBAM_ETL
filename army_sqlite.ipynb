{
 "cells": [
  {
   "cell_type": "code",
   "execution_count": 1,
   "metadata": {},
   "outputs": [],
   "source": [
    "import pandas as pd\n",
    "from sqlalchemy import create_engine"
   ]
  },
  {
   "cell_type": "code",
   "execution_count": 2,
   "metadata": {},
   "outputs": [
    {
     "data": {
      "text/html": [
       "<div>\n",
       "<style scoped>\n",
       "    .dataframe tbody tr th:only-of-type {\n",
       "        vertical-align: middle;\n",
       "    }\n",
       "\n",
       "    .dataframe tbody tr th {\n",
       "        vertical-align: top;\n",
       "    }\n",
       "\n",
       "    .dataframe thead th {\n",
       "        text-align: right;\n",
       "    }\n",
       "</style>\n",
       "<table border=\"1\" class=\"dataframe\">\n",
       "  <thead>\n",
       "    <tr style=\"text-align: right;\">\n",
       "      <th></th>\n",
       "      <th>Name</th>\n",
       "      <th>State</th>\n",
       "      <th>Command</th>\n",
       "      <th>Region</th>\n",
       "      <th>Latitude</th>\n",
       "      <th>Longitude</th>\n",
       "      <th>Type</th>\n",
       "      <th>Quantity</th>\n",
       "    </tr>\n",
       "  </thead>\n",
       "  <tbody>\n",
       "    <tr>\n",
       "      <th>0</th>\n",
       "      <td>Ft Rucker</td>\n",
       "      <td>AL</td>\n",
       "      <td>Training</td>\n",
       "      <td>CONUS</td>\n",
       "      <td>31.3428</td>\n",
       "      <td>-85.7154.</td>\n",
       "      <td>Air RVCT</td>\n",
       "      <td>30</td>\n",
       "    </tr>\n",
       "    <tr>\n",
       "      <th>1</th>\n",
       "      <td>Ft Carson</td>\n",
       "      <td>CO</td>\n",
       "      <td>FORSCOM</td>\n",
       "      <td>CONUS</td>\n",
       "      <td>38.5533</td>\n",
       "      <td>-104.8388.</td>\n",
       "      <td>Air RVCT</td>\n",
       "      <td>30</td>\n",
       "    </tr>\n",
       "    <tr>\n",
       "      <th>2</th>\n",
       "      <td>Ft Riley</td>\n",
       "      <td>KS</td>\n",
       "      <td>FORSCOM</td>\n",
       "      <td>CONUS</td>\n",
       "      <td>39.1000</td>\n",
       "      <td>-96.8167.</td>\n",
       "      <td>Air RVCT</td>\n",
       "      <td>30</td>\n",
       "    </tr>\n",
       "    <tr>\n",
       "      <th>3</th>\n",
       "      <td>Ft Bliss</td>\n",
       "      <td>TX</td>\n",
       "      <td>FORSCOM</td>\n",
       "      <td>CONUS</td>\n",
       "      <td>31.8012</td>\n",
       "      <td>-106.4215.</td>\n",
       "      <td>Air RVCT</td>\n",
       "      <td>30</td>\n",
       "    </tr>\n",
       "    <tr>\n",
       "      <th>4</th>\n",
       "      <td>Ft Hood</td>\n",
       "      <td>TX</td>\n",
       "      <td>FORSCOM</td>\n",
       "      <td>CONUS</td>\n",
       "      <td>31.1349</td>\n",
       "      <td>-97.7756.</td>\n",
       "      <td>Air RVCT</td>\n",
       "      <td>30</td>\n",
       "    </tr>\n",
       "  </tbody>\n",
       "</table>\n",
       "</div>"
      ],
      "text/plain": [
       "        Name State   Command Region Latitude   Longitude      Type  Quantity\n",
       "0  Ft Rucker    AL  Training  CONUS  31.3428   -85.7154.  Air RVCT        30\n",
       "1  Ft Carson    CO   FORSCOM  CONUS  38.5533  -104.8388.  Air RVCT        30\n",
       "2   Ft Riley    KS   FORSCOM  CONUS  39.1000   -96.8167.  Air RVCT        30\n",
       "3   Ft Bliss    TX   FORSCOM  CONUS  31.8012  -106.4215.  Air RVCT        30\n",
       "4    Ft Hood    TX   FORSCOM  CONUS  31.1349   -97.7756.  Air RVCT        30"
      ]
     },
     "execution_count": 2,
     "metadata": {},
     "output_type": "execute_result"
    }
   ],
   "source": [
    "army_file = \"base_locations.csv\"\n",
    "army_df = pd.read_csv(army_file)\n",
    "army_df.head()"
   ]
  },
  {
   "cell_type": "code",
   "execution_count": 7,
   "metadata": {},
   "outputs": [],
   "source": [
    "engine = create_engine(\"sqlite:///army_1.sqlite\", echo=False)"
   ]
  },
  {
   "cell_type": "code",
   "execution_count": 8,
   "metadata": {},
   "outputs": [
    {
     "data": {
      "text/plain": [
       "[]"
      ]
     },
     "execution_count": 8,
     "metadata": {},
     "output_type": "execute_result"
    }
   ],
   "source": [
    "engine.table_names()"
   ]
  },
  {
   "cell_type": "code",
   "execution_count": 9,
   "metadata": {},
   "outputs": [],
   "source": [
    "army_df.to_sql(name='base_locations', con=engine, if_exists='append', index=True)"
   ]
  },
  {
   "cell_type": "code",
   "execution_count": 11,
   "metadata": {},
   "outputs": [
    {
     "name": "stdout",
     "output_type": "stream",
     "text": [
      "(180,)\n"
     ]
    }
   ],
   "source": [
    "air_rvct_quantity=engine.execute(\"SELECT SUM(Quantity) from base_locations where type='Air RVCT'\")\n",
    "\n",
    "for value in air_rvct_quantity:\n",
    "    print(value)"
   ]
  },
  {
   "cell_type": "code",
   "execution_count": 12,
   "metadata": {},
   "outputs": [
    {
     "name": "stdout",
     "output_type": "stream",
     "text": [
      "(0, 'Ft Rucker', 'AL', 'Training', 'CONUS', '31.3428', '-85.7154.', 'Air RVCT', 30)\n",
      "(1, 'Ft Carson', 'CO', 'FORSCOM', 'CONUS', '38.5533', '-104.8388.', 'Air RVCT', 30)\n",
      "(2, 'Ft Riley', 'KS', 'FORSCOM', 'CONUS', '39.1000', '-96.8167.', 'Air RVCT', 30)\n",
      "(3, 'Ft Bliss', 'TX', 'FORSCOM', 'CONUS', '31.8012', '-106.4215.', 'Air RVCT', 30)\n",
      "(4, 'Ft Hood', 'TX', 'FORSCOM', 'CONUS', '31.1349', '-97.7756.', 'Air RVCT', 30)\n",
      "(5, 'Wheeler AAF', 'HI', 'USARPAC', 'OCONUS', 'PHHI,', 'HHI),', 'Air RVCT', 30)\n"
     ]
    }
   ],
   "source": [
    "air_rvct=engine.execute(\"SELECT * from base_locations where type='Air RVCT'\")\n",
    "\n",
    "for value in air_rvct:\n",
    "    print(value)"
   ]
  },
  {
   "cell_type": "code",
   "execution_count": 13,
   "metadata": {},
   "outputs": [
    {
     "name": "stdout",
     "output_type": "stream",
     "text": [
      "(1224,)\n"
     ]
    }
   ],
   "source": [
    "ground_rvct_quantity=engine.execute(\"SELECT SUM(Quantity) from base_locations where type='Ground RVCT'\")\n",
    "\n",
    "for value in ground_rvct_quantity:\n",
    "    print(value)"
   ]
  },
  {
   "cell_type": "code",
   "execution_count": 14,
   "metadata": {},
   "outputs": [
    {
     "name": "stdout",
     "output_type": "stream",
     "text": [
      "(6, 'Fort Benning', 'GA', 'TRADOC', 'CONUS', '32.3597', '-84.9682.', 'Ground RVCT', 144)\n",
      "(7, 'Fort Carson', 'CO', 'FORSCOM', 'CONUS', '38.5533', '-104.8388.', 'Ground RVCT', 144)\n",
      "(8, 'Fort Stewart', 'GA', 'FORSCOM', 'CONUS', '31.8747', '-81.6045.', 'Ground RVCT', 144)\n",
      "(9, 'Fort Riley', 'KS', 'FORSCOM', 'CONUS', '39.1000', '-96.8167.', 'Ground RVCT', 144)\n",
      "(10, 'Fort Bragg', 'NC', 'FORSCOM', 'CONUS', '35.1390', '-79.0060.', 'Ground RVCT', 72)\n",
      "(11, 'Fort Sill', 'OK', 'FORSCOM', 'CONUS', '34.7025', '-98.5050.', 'Ground RVCT', 36)\n",
      "(12, 'Fort Bliss', 'TX', 'FORSCOM', 'CONUS', '31.8012', '-106.4215.', 'Ground RVCT', 144)\n",
      "(13, 'Fort Hood', 'TX', 'FORSCOM', 'CONUS', '31.1349', '-97.7756.', 'Ground RVCT', 144)\n",
      "(14, 'Fort Lewis', 'WA', 'FORSCOM', 'CONUS', '47.1079', '-122.5769.', 'Ground RVCT', 72)\n",
      "(15, 'Fort McClellan', 'AL', 'ARNG', 'CONUS', '33.7065', '-85.7357.', 'Ground RVCT', 36)\n",
      "(16, 'Camp Robertson', 'AR', 'ARNG', 'CONUS', '31.8593', '64.1905.', 'Ground RVCT', 36)\n",
      "(17, 'Salina', 'KS', 'ARNG', 'CONUS', '38.8212', '-97.6043.', 'Ground RVCT', 36)\n",
      "(18, 'Fort Pickett', 'VA', 'ARNG', 'CONUS', '37.0533', '-77.9491.', 'Ground RVCT', 36)\n",
      "(19, 'Salinas', 'PR', 'ARNG', 'OCONUS', '17.9775', '-66.2980.', 'Ground RVCT', 36)\n"
     ]
    }
   ],
   "source": [
    "ground_rvct=engine.execute(\"SELECT * from base_locations where type='Ground RVCT'\")\n",
    "\n",
    "for value in ground_rvct:\n",
    "    print(value)"
   ]
  },
  {
   "cell_type": "code",
   "execution_count": 17,
   "metadata": {},
   "outputs": [
    {
     "name": "stdout",
     "output_type": "stream",
     "text": [
      "(0, 'Ft Rucker', 'AL', 'Training', 'CONUS', '31.3428', '-85.7154.', 'Air RVCT', 30)\n",
      "(1, 'Ft Carson', 'CO', 'FORSCOM', 'CONUS', '38.5533', '-104.8388.', 'Air RVCT', 30)\n",
      "(2, 'Ft Riley', 'KS', 'FORSCOM', 'CONUS', '39.1000', '-96.8167.', 'Air RVCT', 30)\n",
      "(3, 'Ft Bliss', 'TX', 'FORSCOM', 'CONUS', '31.8012', '-106.4215.', 'Air RVCT', 30)\n",
      "(4, 'Ft Hood', 'TX', 'FORSCOM', 'CONUS', '31.1349', '-97.7756.', 'Air RVCT', 30)\n",
      "(6, 'Fort Benning', 'GA', 'TRADOC', 'CONUS', '32.3597', '-84.9682.', 'Ground RVCT', 144)\n",
      "(7, 'Fort Carson', 'CO', 'FORSCOM', 'CONUS', '38.5533', '-104.8388.', 'Ground RVCT', 144)\n",
      "(8, 'Fort Stewart', 'GA', 'FORSCOM', 'CONUS', '31.8747', '-81.6045.', 'Ground RVCT', 144)\n",
      "(9, 'Fort Riley', 'KS', 'FORSCOM', 'CONUS', '39.1000', '-96.8167.', 'Ground RVCT', 144)\n",
      "(10, 'Fort Bragg', 'NC', 'FORSCOM', 'CONUS', '35.1390', '-79.0060.', 'Ground RVCT', 72)\n",
      "(11, 'Fort Sill', 'OK', 'FORSCOM', 'CONUS', '34.7025', '-98.5050.', 'Ground RVCT', 36)\n",
      "(12, 'Fort Bliss', 'TX', 'FORSCOM', 'CONUS', '31.8012', '-106.4215.', 'Ground RVCT', 144)\n",
      "(13, 'Fort Hood', 'TX', 'FORSCOM', 'CONUS', '31.1349', '-97.7756.', 'Ground RVCT', 144)\n",
      "(14, 'Fort Lewis', 'WA', 'FORSCOM', 'CONUS', '47.1079', '-122.5769.', 'Ground RVCT', 72)\n",
      "(15, 'Fort McClellan', 'AL', 'ARNG', 'CONUS', '33.7065', '-85.7357.', 'Ground RVCT', 36)\n",
      "(16, 'Camp Robertson', 'AR', 'ARNG', 'CONUS', '31.8593', '64.1905.', 'Ground RVCT', 36)\n",
      "(17, 'Salina', 'KS', 'ARNG', 'CONUS', '38.8212', '-97.6043.', 'Ground RVCT', 36)\n",
      "(18, 'Fort Pickett', 'VA', 'ARNG', 'CONUS', '37.0533', '-77.9491.', 'Ground RVCT', 36)\n"
     ]
    }
   ],
   "source": [
    "conus=engine.execute(\"SELECT * from base_locations where Region='CONUS'\")\n",
    "\n",
    "for value in conus:\n",
    "    print(value)"
   ]
  },
  {
   "cell_type": "code",
   "execution_count": 21,
   "metadata": {},
   "outputs": [
    {
     "name": "stdout",
     "output_type": "stream",
     "text": [
      "(1338,)\n"
     ]
    }
   ],
   "source": [
    "conus_quantity=engine.execute(\"SELECT SUM(Quantity) from base_locations where Region='CONUS'\")\n",
    "\n",
    "for value in conus_quantity:\n",
    "    print(value)"
   ]
  },
  {
   "cell_type": "code",
   "execution_count": 22,
   "metadata": {},
   "outputs": [
    {
     "name": "stdout",
     "output_type": "stream",
     "text": [
      "(5, 'Wheeler AAF', 'HI', 'USARPAC', 'OCONUS', 'PHHI,', 'HHI),', 'Air RVCT', 30)\n",
      "(19, 'Salinas', 'PR', 'ARNG', 'OCONUS', '17.9775', '-66.2980.', 'Ground RVCT', 36)\n"
     ]
    }
   ],
   "source": [
    "oconus=engine.execute(\"SELECT * from base_locations where Region='OCONUS'\")\n",
    "\n",
    "for value in oconus:\n",
    "    print(value)"
   ]
  },
  {
   "cell_type": "code",
   "execution_count": 23,
   "metadata": {},
   "outputs": [
    {
     "name": "stdout",
     "output_type": "stream",
     "text": [
      "(66,)\n"
     ]
    }
   ],
   "source": [
    "oconus_quantity=engine.execute(\"SELECT SUM(Quantity) from base_locations where Region='OCONUS'\")\n",
    "\n",
    "for value in oconus_quantity:\n",
    "    print(value)"
   ]
  },
  {
   "cell_type": "code",
   "execution_count": 24,
   "metadata": {},
   "outputs": [
    {
     "name": "stdout",
     "output_type": "stream",
     "text": [
      "(1, 'Ft Carson', 'CO', 'FORSCOM', 'CONUS', '38.5533', '-104.8388.', 'Air RVCT', 30)\n",
      "(2, 'Ft Riley', 'KS', 'FORSCOM', 'CONUS', '39.1000', '-96.8167.', 'Air RVCT', 30)\n",
      "(3, 'Ft Bliss', 'TX', 'FORSCOM', 'CONUS', '31.8012', '-106.4215.', 'Air RVCT', 30)\n",
      "(4, 'Ft Hood', 'TX', 'FORSCOM', 'CONUS', '31.1349', '-97.7756.', 'Air RVCT', 30)\n",
      "(7, 'Fort Carson', 'CO', 'FORSCOM', 'CONUS', '38.5533', '-104.8388.', 'Ground RVCT', 144)\n",
      "(8, 'Fort Stewart', 'GA', 'FORSCOM', 'CONUS', '31.8747', '-81.6045.', 'Ground RVCT', 144)\n",
      "(9, 'Fort Riley', 'KS', 'FORSCOM', 'CONUS', '39.1000', '-96.8167.', 'Ground RVCT', 144)\n",
      "(10, 'Fort Bragg', 'NC', 'FORSCOM', 'CONUS', '35.1390', '-79.0060.', 'Ground RVCT', 72)\n",
      "(11, 'Fort Sill', 'OK', 'FORSCOM', 'CONUS', '34.7025', '-98.5050.', 'Ground RVCT', 36)\n",
      "(12, 'Fort Bliss', 'TX', 'FORSCOM', 'CONUS', '31.8012', '-106.4215.', 'Ground RVCT', 144)\n",
      "(13, 'Fort Hood', 'TX', 'FORSCOM', 'CONUS', '31.1349', '-97.7756.', 'Ground RVCT', 144)\n",
      "(14, 'Fort Lewis', 'WA', 'FORSCOM', 'CONUS', '47.1079', '-122.5769.', 'Ground RVCT', 72)\n"
     ]
    }
   ],
   "source": [
    "forscom=engine.execute(\"SELECT * from base_locations where Command='FORSCOM'\")\n",
    "\n",
    "for value in forscom:\n",
    "    print(value)"
   ]
  },
  {
   "cell_type": "code",
   "execution_count": 25,
   "metadata": {},
   "outputs": [
    {
     "name": "stdout",
     "output_type": "stream",
     "text": [
      "(1020,)\n"
     ]
    }
   ],
   "source": [
    "forscom_quantity=engine.execute(\"SELECT SUM(Quantity) from base_locations where Command='FORSCOM'\")\n",
    "\n",
    "for value in forscom_quantity:\n",
    "    print(value)"
   ]
  },
  {
   "cell_type": "code",
   "execution_count": 26,
   "metadata": {},
   "outputs": [],
   "source": [
    "usapac=engine.execute(\"SELECT * from base_locations where Command='USAPAC'\")\n",
    "\n",
    "for value in usapac:\n",
    "    print(value)"
   ]
  },
  {
   "cell_type": "code",
   "execution_count": 27,
   "metadata": {},
   "outputs": [
    {
     "name": "stdout",
     "output_type": "stream",
     "text": [
      "(None,)\n"
     ]
    }
   ],
   "source": [
    "usapac_quantity=engine.execute(\"SELECT SUM(Quantity) from base_locations where Command='USAPAC'\")\n",
    "\n",
    "for value in usapac_quantity:\n",
    "    print(value)"
   ]
  },
  {
   "cell_type": "code",
   "execution_count": 28,
   "metadata": {},
   "outputs": [
    {
     "name": "stdout",
     "output_type": "stream",
     "text": [
      "(6, 'Fort Benning', 'GA', 'TRADOC', 'CONUS', '32.3597', '-84.9682.', 'Ground RVCT', 144)\n"
     ]
    }
   ],
   "source": [
    "tradoc=engine.execute(\"SELECT * from base_locations where Command='TRADOC'\")\n",
    "\n",
    "for value in tradoc:\n",
    "    print(value)"
   ]
  },
  {
   "cell_type": "code",
   "execution_count": 29,
   "metadata": {},
   "outputs": [
    {
     "name": "stdout",
     "output_type": "stream",
     "text": [
      "(144,)\n"
     ]
    }
   ],
   "source": [
    "tradoc_quantity=engine.execute(\"SELECT SUM(Quantity) from base_locations where Command='TRADOC'\")\n",
    "\n",
    "for value in tradoc_quantity:\n",
    "    print(value)"
   ]
  },
  {
   "cell_type": "code",
   "execution_count": 30,
   "metadata": {},
   "outputs": [
    {
     "name": "stdout",
     "output_type": "stream",
     "text": [
      "(0, 'Ft Rucker', 'AL', 'Training', 'CONUS', '31.3428', '-85.7154.', 'Air RVCT', 30)\n"
     ]
    }
   ],
   "source": [
    "training=engine.execute(\"SELECT * from base_locations where Command='Training'\")\n",
    "\n",
    "for value in training:\n",
    "    print(value)"
   ]
  },
  {
   "cell_type": "code",
   "execution_count": 31,
   "metadata": {},
   "outputs": [
    {
     "name": "stdout",
     "output_type": "stream",
     "text": [
      "(30,)\n"
     ]
    }
   ],
   "source": [
    "training_quantity=engine.execute(\"SELECT SUM(Quantity) from base_locations where Command='Training'\")\n",
    "\n",
    "for value in training_quantity:\n",
    "    print(value)"
   ]
  },
  {
   "cell_type": "code",
   "execution_count": 32,
   "metadata": {},
   "outputs": [
    {
     "name": "stdout",
     "output_type": "stream",
     "text": [
      "(15, 'Fort McClellan', 'AL', 'ARNG', 'CONUS', '33.7065', '-85.7357.', 'Ground RVCT', 36)\n",
      "(16, 'Camp Robertson', 'AR', 'ARNG', 'CONUS', '31.8593', '64.1905.', 'Ground RVCT', 36)\n",
      "(17, 'Salina', 'KS', 'ARNG', 'CONUS', '38.8212', '-97.6043.', 'Ground RVCT', 36)\n",
      "(18, 'Fort Pickett', 'VA', 'ARNG', 'CONUS', '37.0533', '-77.9491.', 'Ground RVCT', 36)\n",
      "(19, 'Salinas', 'PR', 'ARNG', 'OCONUS', '17.9775', '-66.2980.', 'Ground RVCT', 36)\n"
     ]
    }
   ],
   "source": [
    "arng=engine.execute(\"SELECT * from base_locations where Command='ARNG'\")\n",
    "\n",
    "for value in arng:\n",
    "    print(value)"
   ]
  },
  {
   "cell_type": "code",
   "execution_count": 33,
   "metadata": {},
   "outputs": [
    {
     "name": "stdout",
     "output_type": "stream",
     "text": [
      "(180,)\n"
     ]
    }
   ],
   "source": [
    "arng_quantity=engine.execute(\"SELECT SUM(Quantity) from base_locations where Command='ARNG'\")\n",
    "\n",
    "for value in arng_quantity:\n",
    "    print(value)"
   ]
  },
  {
   "cell_type": "code",
   "execution_count": null,
   "metadata": {},
   "outputs": [],
   "source": []
  }
 ],
 "metadata": {
  "kernelspec": {
   "display_name": "Python [conda env:PythonData]",
   "language": "python",
   "name": "conda-env-PythonData-py"
  },
  "language_info": {
   "codemirror_mode": {
    "name": "ipython",
    "version": 3
   },
   "file_extension": ".py",
   "mimetype": "text/x-python",
   "name": "python",
   "nbconvert_exporter": "python",
   "pygments_lexer": "ipython3",
   "version": "3.7.1"
  }
 },
 "nbformat": 4,
 "nbformat_minor": 2
}
